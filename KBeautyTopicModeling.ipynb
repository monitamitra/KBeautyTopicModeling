{
 "cells": [
  {
   "cell_type": "code",
   "execution_count": 1,
   "id": "fe118eec",
   "metadata": {
    "collapsed": true
   },
   "outputs": [
    {
     "name": "stdout",
     "output_type": "stream",
     "text": [
      "Collecting selenium\n",
      "  Downloading selenium-4.26.1-py3-none-any.whl (9.7 MB)\n",
      "     ---------------------------------------- 0.0/9.7 MB ? eta -:--:--\n",
      "      --------------------------------------- 0.2/9.7 MB 6.9 MB/s eta 0:00:02\n",
      "     -- ------------------------------------- 0.5/9.7 MB 7.9 MB/s eta 0:00:02\n",
      "     ---- ----------------------------------- 1.2/9.7 MB 10.8 MB/s eta 0:00:01\n",
      "     ------- -------------------------------- 1.7/9.7 MB 9.9 MB/s eta 0:00:01\n",
      "     --------- ------------------------------ 2.4/9.7 MB 10.8 MB/s eta 0:00:01\n",
      "     ----------- ---------------------------- 2.7/9.7 MB 10.8 MB/s eta 0:00:01\n",
      "     ----------- ---------------------------- 2.7/9.7 MB 10.3 MB/s eta 0:00:01\n",
      "     ------------- -------------------------- 3.3/9.7 MB 9.6 MB/s eta 0:00:01\n",
      "     ---------------- ----------------------- 4.0/9.7 MB 10.6 MB/s eta 0:00:01\n",
      "     ------------------- -------------------- 4.6/9.7 MB 10.9 MB/s eta 0:00:01\n",
      "     --------------------- ------------------ 5.3/9.7 MB 11.3 MB/s eta 0:00:01\n",
      "     ------------------------ --------------- 5.9/9.7 MB 11.5 MB/s eta 0:00:01\n",
      "     -------------------------- ------------- 6.5/9.7 MB 11.6 MB/s eta 0:00:01\n",
      "     ----------------------------- ---------- 7.2/9.7 MB 12.1 MB/s eta 0:00:01\n",
      "     ------------------------------- -------- 7.7/9.7 MB 12.0 MB/s eta 0:00:01\n",
      "     ----------------------------------- ---- 8.6/9.7 MB 12.2 MB/s eta 0:00:01\n",
      "     ------------------------------------- -- 9.2/9.7 MB 12.2 MB/s eta 0:00:01\n",
      "     ---------------------------------------  9.7/9.7 MB 12.1 MB/s eta 0:00:01\n",
      "     ---------------------------------------- 9.7/9.7 MB 11.7 MB/s eta 0:00:00\n",
      "Collecting websocket-client~=1.8\n",
      "  Downloading websocket_client-1.8.0-py3-none-any.whl (58 kB)\n",
      "     ---------------------------------------- 0.0/58.8 kB ? eta -:--:--\n",
      "     ---------------------------------------- 58.8/58.8 kB ? eta 0:00:00\n",
      "Collecting trio~=0.17\n",
      "  Downloading trio-0.27.0-py3-none-any.whl (481 kB)\n",
      "     ---------------------------------------- 0.0/481.7 kB ? eta -:--:--\n",
      "     ------------------------------------  481.3/481.7 kB 10.2 MB/s eta 0:00:01\n",
      "     ------------------------------------- 481.7/481.7 kB 10.2 MB/s eta 0:00:00\n",
      "Requirement already satisfied: typing_extensions~=4.9 in c:\\users\\mitra\\miniconda3\\lib\\site-packages (from selenium) (4.9.0)\n",
      "Requirement already satisfied: certifi>=2021.10.8 in c:\\users\\mitra\\miniconda3\\lib\\site-packages (from selenium) (2023.5.7)\n",
      "Collecting trio-websocket~=0.9\n",
      "  Downloading trio_websocket-0.11.1-py3-none-any.whl (17 kB)\n",
      "Requirement already satisfied: urllib3[socks]<3,>=1.26 in c:\\users\\mitra\\miniconda3\\lib\\site-packages (from selenium) (1.26.16)\n",
      "Collecting sniffio>=1.3.0\n",
      "  Downloading sniffio-1.3.1-py3-none-any.whl (10 kB)\n",
      "Requirement already satisfied: cffi>=1.14 in c:\\users\\mitra\\miniconda3\\lib\\site-packages (from trio~=0.17->selenium) (1.15.1)\n",
      "Collecting outcome\n",
      "  Downloading outcome-1.3.0.post0-py2.py3-none-any.whl (10 kB)\n",
      "Collecting attrs>=23.2.0\n",
      "  Downloading attrs-24.2.0-py3-none-any.whl (63 kB)\n",
      "     ---------------------------------------- 0.0/63.0 kB ? eta -:--:--\n",
      "     ---------------------------------------- 63.0/63.0 kB 3.3 MB/s eta 0:00:00\n",
      "Collecting exceptiongroup\n",
      "  Downloading exceptiongroup-1.2.2-py3-none-any.whl (16 kB)\n",
      "Requirement already satisfied: idna in c:\\users\\mitra\\miniconda3\\lib\\site-packages (from trio~=0.17->selenium) (3.4)\n",
      "Collecting sortedcontainers\n",
      "  Downloading sortedcontainers-2.4.0-py2.py3-none-any.whl (29 kB)\n",
      "Collecting wsproto>=0.14\n",
      "  Downloading wsproto-1.2.0-py3-none-any.whl (24 kB)\n",
      "Requirement already satisfied: PySocks!=1.5.7,<2.0,>=1.5.6 in c:\\users\\mitra\\miniconda3\\lib\\site-packages (from urllib3[socks]<3,>=1.26->selenium) (1.7.1)\n",
      "Requirement already satisfied: pycparser in c:\\users\\mitra\\miniconda3\\lib\\site-packages (from cffi>=1.14->trio~=0.17->selenium) (2.21)\n",
      "Collecting h11<1,>=0.9.0\n",
      "  Downloading h11-0.14.0-py3-none-any.whl (58 kB)\n",
      "     ---------------------------------------- 0.0/58.3 kB ? eta -:--:--\n",
      "     ---------------------------------------- 58.3/58.3 kB ? eta 0:00:00\n",
      "Installing collected packages: sortedcontainers, websocket-client, sniffio, h11, exceptiongroup, attrs, wsproto, outcome, trio, trio-websocket, selenium\n",
      "  Attempting uninstall: websocket-client\n",
      "    Found existing installation: websocket-client 0.58.0\n",
      "    Uninstalling websocket-client-0.58.0:\n",
      "      Successfully uninstalled websocket-client-0.58.0\n",
      "  Attempting uninstall: sniffio\n",
      "    Found existing installation: sniffio 1.2.0\n",
      "    Uninstalling sniffio-1.2.0:\n",
      "      Successfully uninstalled sniffio-1.2.0\n",
      "  Attempting uninstall: attrs\n",
      "    Found existing installation: attrs 22.1.0\n",
      "    Uninstalling attrs-22.1.0:\n",
      "      Successfully uninstalled attrs-22.1.0\n",
      "Successfully installed attrs-24.2.0 exceptiongroup-1.2.2 h11-0.14.0 outcome-1.3.0.post0 selenium-4.26.1 sniffio-1.3.1 sortedcontainers-2.4.0 trio-0.27.0 trio-websocket-0.11.1 websocket-client-1.8.0 wsproto-1.2.0\n"
     ]
    }
   ],
   "source": [
    "# installing packages \n",
    "!pip install selenium"
   ]
  },
  {
   "cell_type": "code",
   "execution_count": 34,
   "id": "35c4339f",
   "metadata": {},
   "outputs": [],
   "source": [
    "# importing necessary packages\n",
    "from selenium import webdriver \n",
    "from bs4 import BeautifulSoup\n",
    "import time\n",
    "from selenium.webdriver.common.by import By\n",
    "from selenium.webdriver.support.ui import WebDriverWait\n",
    "from selenium.webdriver.support import expected_conditions as EC"
   ]
  },
  {
   "cell_type": "code",
   "execution_count": 64,
   "id": "264bfb6f",
   "metadata": {},
   "outputs": [],
   "source": [
    "# loading webpage data\n",
    "driver = webdriver.Chrome()\n",
    "product_url = \"https://www.ulta.com/p/glass-skin-refining-serum-xlsImpprod18971035?sku=2532640#reviews\"\n",
    "driver.get(product_url)"
   ]
  },
  {
   "cell_type": "code",
   "execution_count": 66,
   "id": "dada2447",
   "metadata": {
    "scrolled": true
   },
   "outputs": [
    {
     "name": "stdout",
     "output_type": "stream",
     "text": [
      "{'I purchased the travel size to try & really like how well it softens my skin. It is less expensive than my current serum and has not irritated my sensitive skin at all. I will definitely be purchasing the full size.': 5.0, 'Bought this & it turned my face so red that friends & family asked me what was wrong with my face? Unfortunately, i used this product on my birthday. This is a fairly new brand. If looking for sometging trusted & gentle, estee lauder & clinique have been around for decades. These new produxts just trying to get a piece of the pie & capitalize on women wanting to care for their skin & prevent as much aging as possible.': 1.0, 'Makes my skin very smooth and soft': 5.0, \"I am new at buying face skin products. I had some that will cause side effects but with peach and lily products I don't feel any side effects. I also love how my face looks for the entire day. It hasn't been that soft in years.\": 5.0, 'I am so happy i found this product!! Works so well with the matcha moisturizer. Absorbs quicky. Makes my skin visibly brighter. Helped worh my acne. I am so happy with this product. Made my skin brighter just with a few uses.': 5.0, \"Didn't give me glass skin and didn't do anything noticeably positive for my skin.\": 1.0, 'I have tried this 3 different times trying to make myself like it. Its hard to apply and leaves a sticky ferling on the skin. Have not noticed any difference in my skin sunce using it. Will not re-purchase': 2.0, 'So after a facial that went bad and damaged my skin barrier years ago, I could not use any type of skincare becuaed it would give me an allergic reaction and perioral dermatitis. A friend recommened this serum and I ended up liking it so I purchased the rest of the products I needed to complete my skin care. I think it took about two monds of on and off again using peach and lily and it really does work! My skin texture and irritation problems went away. I think if I used it more regularly I wouldve seen results faster. Nontheless, I love it and my new skin. I also use the peach and slices snail mucin line and is really nice.': 5.0, \"this came highly recommended by a friend years ago. i have tried using it several times, and every time, after the third day or so, i break out. I dont know what it is, but before I isolated that this was what broke me out, I used it consistently and it did nothing. For such a high price point, I just can't justify it. Now I can't even use it. I don't really break out anymore, so for something to cause it, really is a shame.\": 3.0, \"I notice such a difference when i use this product. If I don't use it for a few days i start breaking out and have a lot of skin texture, but once I start using it again my skin is so glowy.\": 5.0, 'You have to use for more than a week to see a change and use regularly. I honestly have gotten comments that my skin looks like glass.': 5.0, 'I had this a couple years ago and i quit using it because it is expensive but it does make a differene and when I incorporated st back into my routine it took a while whike to see result but my pores are smaller and my skin is less textured.': 5.0, \"I absolutely love this product, I have sensitive skin and love that it is fragrance free. It helps with my pimples as well. Doesn't burn or make me break out.\": 5.0, 'This product made no difference in my skin': 1.0, \"I have normal to dry skin and it's occasionally sensitive. Decided to try this and used for 3 days in a row. By the third day my forehead got small bumps :( and I never get acne on forehead. I don't usually get acne at all anywhere. So yeah, this wasn't for me. Either the peach or niacinamide...\": 2.0, \"I'll start by saying that in the morning I can't even use a lite coat of foundation...absolutely nothing because for some reason anything on Mt face makes me sweat profusely. And I don't mean a glisten bur downright sweat dripping down my face. I have tried toners, serums, moisturizers and nothing worked until I tried this. I am able to put a very lite coat on my face and I can actually get away with it. No, it doesn't give me glass skin but I'm 64 years old and I don't expect that, I'm being realistic! What it does give me is some extra moisture and pumps up my skin which leads to less defined fine lines. I can't ever run out of this since it's the only facial product that I can use in the morning.\": 4.0, 'Did not make my skin look like glass or any different.   It did not break me put and ot feels nice gpomg on but does jothomg noticable.': 3.0, 'I bought this about 2 weeks ago and began seeing results almost immediately! It gives the look of glowy/ glass skin and evens out tone and texture. The consistency is a bit watery , but it absorps quickly . Easy product to incorporate into your routine .': 5.0, \"I have a variety of these products and they've been good for my sensitive skin. They're also leaping bunny approved and vegan which is important to me because I'm vegan.\": 5.0, \"I've seen so many rave reviews on this for years, I finally bought it and genuinely see a substantial difference in my skin. It does everything they claim, I'd say the biggest difference I've personally seen is how it eliminated texture and brightened/evened my skin tone. It's also great for minimizing pores and keeping pretty much everything else (oil, acne, etc) in control.\\n\\nIf you're on the fence because of the price I'd say the benefit of this serum is it does nearly everything in 1 product so you could benefit from this as your main serum and cut your costs on other skin products if needed. Definitely give it a try.\": 5.0, 'Loves this stuff!!!!': 5.0, \"1.  It's pleasant: no smell, no sticky yuck, never pills etc\\n\\n2.  You feel like it's working, but unlike other serums that feel good at what it does, it mixes well with any combo of skincare and all makeup routines.\\n\\n3.  The ingredients are great cuz you get a lot of benefits out of one product, plus I almost always used it as a primer, so when I was in a rush I could use this alone for skincare and primer and not feel like I was skimping on my routine.\\n\\nAnyway, I finished mine, I think the quickest I finished a serum ever - but I had a ton of other serums to still get through so I didn't rush to replace it.  Well, idk if it's a coincidence but I have developed hyperpigmentation which is something I never had and I keep feeling like if I hadn't stopped using this it never would have happened.  So, here I am, back to get another.  Wish me luck 😊\": 5.0, 'I added this to my skin routine after seeing positive reviews and my skin changed. It was bright, even, and smooth. After the second bottle I stopped using it and soon realized my face needed it. I purchased it again and can see the great results!': 5.0, \"I love this product! I started out with buying the tester, cause I didn't know if it was worth the money, but I used the tester and it cleared my blackheads so much and has prevented breakouts. The one thing I would say is that it's pretty pricey, but in my opinion, it's worth it because it lasts a while.\": 5.0, \"I was looking for a daily serum that would even out my skin tone since I've had some acne scars and dark spots that bothered me, but due to having oily and acne-prone skin I was hesitant to try a new product. I'm happy I did- this serum has worked wonders with my skin and isn't oily nor drying and hasn't caused any breakouts. It has little to no fragrance and leaves a nice finish on my skin when I apply it. Not too dewy, not too matte. \\n\\nI've been using this for just 3 weeks now and it's made a noticeable difference in my skin tone already. I finally feel like I'm closer to having 'glass skin' after years of struggling with acne and uneven skin tone. I highly recommend- the price point is a little high but in my opinion, it's worth it.\": 5.0}\n"
     ]
    }
   ],
   "source": [
    "print(reviews)"
   ]
  },
  {
   "cell_type": "code",
   "execution_count": 65,
   "id": "4311c136",
   "metadata": {
    "scrolled": true
   },
   "outputs": [
    {
     "name": "stdout",
     "output_type": "stream",
     "text": [
      "0\n",
      "found button!\n",
      "https://www.ulta.com/p/glass-skin-refining-serum-xlsImpprod18971035?sku=2532640&pr_rd_page=2#reviews\n",
      "1\n",
      "found button!\n",
      "https://www.ulta.com/p/glass-skin-refining-serum-xlsImpprod18971035?sku=2532640&pr_rd_page=3#reviews\n",
      "2\n",
      "found button!\n",
      "https://www.ulta.com/p/glass-skin-refining-serum-xlsImpprod18971035?sku=2532640&pr_rd_page=4#reviews\n",
      "3\n",
      "found button!\n",
      "https://www.ulta.com/p/glass-skin-refining-serum-xlsImpprod18971035?sku=2532640&pr_rd_page=5#reviews\n",
      "4\n",
      "found button!\n",
      "https://www.ulta.com/p/glass-skin-refining-serum-xlsImpprod18971035?sku=2532640&pr_rd_page=6#reviews\n",
      "Total Reviews Found: 25\n"
     ]
    }
   ],
   "source": [
    "# extracting and scraping review data\n",
    "reviews = {}\n",
    "page_num = 0\n",
    "max_pages = 5\n",
    "\n",
    "while page_num < max_pages:\n",
    "    print(page_num)\n",
    "    soup = BeautifulSoup(driver.page_source, 'html.parser')\n",
    "    temp_reviews = soup.find_all(\"div\", class_=\"pr-review\")\n",
    "    for review in temp_reviews:\n",
    "        # extracting review text\n",
    "        desc = review.find(\"p\", class_=\"pr-rd-description-text\")\n",
    "        final_desc = desc.text.strip()\n",
    "\n",
    "        # extracting review rating\n",
    "        rating_div = review.find(\"div\", class_=\"pr-snippet-stars\")\n",
    "        rating_aria = rating_div.get(\"aria-label\")\n",
    "        rating_value = float(rating_aria.split()[1]) # label ex: \"Rated 5 out of 5 stars\"\n",
    "\n",
    "        # add rating and text mapping to reviews dictionary\n",
    "        reviews[final_desc] = rating_value\n",
    "\n",
    "        # navigate to next page\n",
    "    next_button_div = soup.find(\"div\", class_=\"pr-rd-pagination\")\n",
    "    next_button = next_button_div.find(\"a\", class_=\"pr-rd-pagination-btn pr-rd-pagination-btn--next\")\n",
    "    if next_button:\n",
    "        print(\"found button!\")\n",
    "    if next_button and next_button.get(\"href\"):\n",
    "        next_page_url = next_button.get(\"href\")\n",
    "        print(next_page_url)\n",
    "        driver.get(next_page_url) # Navigate to the next page\n",
    "           # WebDriverWait(driver, 10).until(EC.presence_of_element_located((By.CLASS_NAME, \"pr-rd-pagination-btn--next\")))\n",
    "            # WebDriverWait(driver, 30).until(EC.visibility_of_element_located((By.CSS_SELECTOR, \".pr-review\")))\n",
    "        time.sleep(10)\n",
    "        page_num += 1\n",
    "    else:\n",
    "        print(f\"Error on page {page_num}\")\n",
    "        break\n",
    "\n",
    "# Close the WebDriver\n",
    "driver.quit()\n",
    "        \n",
    "print(f\"Total Reviews Found: {len(reviews)}\")"
   ]
  }
 ],
 "metadata": {
  "kernelspec": {
   "display_name": "Python 3 (ipykernel)",
   "language": "python",
   "name": "python3"
  },
  "language_info": {
   "codemirror_mode": {
    "name": "ipython",
    "version": 3
   },
   "file_extension": ".py",
   "mimetype": "text/x-python",
   "name": "python",
   "nbconvert_exporter": "python",
   "pygments_lexer": "ipython3",
   "version": "3.10.10"
  }
 },
 "nbformat": 4,
 "nbformat_minor": 5
}
